{
 "cells": [
  {
   "cell_type": "markdown",
   "metadata": {},
   "source": [
    "                                       <h6> Tesauro para Juridiquês </h6>"
   ]
  },
  {
   "cell_type": "markdown",
   "metadata": {},
   "source": [
    "O __Tesauro para Juridiquês__ busca sinônimos em portugês brasileiro para que você possa entender termos da linguagem judicial. A versão atual opera como um tradutor de apenas uma palavra, mas em breve você poderá inserir frases completas.\n",
    "\n",
    "Execute o código abaixo pressionando *play* e informe o termo desejado. \n"
   ]
  },
  {
   "cell_type": "code",
   "execution_count": null,
   "metadata": {},
   "outputs": [],
   "source": [
    "import json\n",
    "from difflib import SequenceMatcher\n",
    "from difflib import get_close_matches\n",
    "lexical = json.load(open(\"JUR.json\"))\n",
    "\n",
    "def tesauro(w):\n",
    "    '''Procura pelo termo w ou similares no dicionario lexical e retorna um\n",
    "    significado caso encontrado. Se o termo desejado não existir, retorna None.\n",
    "    '''\n",
    "    if w in lexical:\n",
    "        return w, lexical[w][0]\n",
    "    if w.title() in lexical:\n",
    "        return w, lexical[w.title()][0]\n",
    "    if w.upper() in lexical:\n",
    "        return w, lexical[w.upper()][0]\n",
    "\n",
    "    close_matches = get_close_matches(w, lexical.keys())\n",
    "    while len(close_matches) > 0:\n",
    "        print(\"Você quis dizer algum destes termos?\")\n",
    "        for i,m in enumerate(close_matches):\n",
    "            print(f'  {i+1} - {m}')\n",
    "        print(f'  {i+2} - Nenhum destes!')\n",
    "\n",
    "        answer = input('Digite um novo termo para buscar de novo, ou o número da opção desejada (1): ')\n",
    "        if answer == '':\n",
    "            answer = 1\n",
    "        try:\n",
    "            answer = int(answer)\n",
    "            if answer in range(1, len(close_matches)+1):\n",
    "                w = close_matches[answer-1]\n",
    "                return w, lexical[close_matches[int(answer)-1]][0]\n",
    "            elif answer == len(close_matches)+1:\n",
    "                break\n",
    "        except:\n",
    "            w = answer.lower()\n",
    "            close_matches = get_close_matches(w, lexical.keys())\n",
    "    return None\n",
    "\n",
    "termo = input(\"Insira o termo aqui: \").lower()\n",
    "\n",
    "output = tesauro(termo)\n",
    "if output is None:\n",
    "    print(\"Este termo ainda não está disponível no Tesauro. Entre em contato com @SofiaMarshallowitz e envie tua sugestão!\")\n",
    "else:\n",
    "    print(output[0], '-', output[1])"
   ]
  },
  {
   "cell_type": "markdown",
   "metadata": {},
   "source": [
    "Esperamos que você possa ter compreendido melhor o teu texto após uma ajudinha do __Tesauro para Juridiquês__. \n",
    "O projeto é voltado para todo mundo, não importando se você é um curioso, alguém envolvido em causas judiciais, cartorário, estudante de Direito, advogado ou qualquer uma das infinitas possibilidades do Direito. No entanto, o __Tesauro para Juridiquês__ não substitui a orientação de um advogado, nem possui o este objetivo. O que queremos é __facilitar a comunicação jurídica__. Para aconselhamentos jurídicos, busque sempre um advogado! "
   ]
  },
  {
   "cell_type": "markdown",
   "metadata": {},
   "source": [
    "Ah, lembre-se! O __Tesauro para Juridiquês__ é resultado de um conhecimento colaborativo, portanto se você desejar contribuir com um termo, entre em contato!"
   ]
  }
 ],
 "metadata": {
  "kernelspec": {
   "display_name": "Python 3",
   "language": "python",
   "name": "python3"
  },
  "language_info": {
   "name": ""
  }
 },
 "nbformat": 4,
 "nbformat_minor": 4
}
